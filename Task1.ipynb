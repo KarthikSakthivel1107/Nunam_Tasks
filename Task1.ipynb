{
 "cells": [
  {
   "cell_type": "code",
   "execution_count": 1,
   "metadata": {},
   "outputs": [],
   "source": [
    "import pandas as pd\n",
    "import os, collections, csv"
   ]
  },
  {
   "cell_type": "code",
   "execution_count": 15,
   "metadata": {},
   "outputs": [],
   "source": [
    "s=pd.read_excel(\"data.xlsx\",sheet_name=None)"
   ]
  },
  {
   "cell_type": "code",
   "execution_count": 25,
   "metadata": {},
   "outputs": [],
   "source": [
    "st=pd.read_excel(\"data_1.xlsx\",sheet_name=None)"
   ]
  },
  {
   "cell_type": "code",
   "execution_count": 27,
   "metadata": {},
   "outputs": [],
   "source": [
    "details=pd.DataFrame()\n",
    "detailsVol=pd.DataFrame()\n",
    "detailsTemp=pd.DataFrame()\n",
    "for i in s.keys():\n",
    "    if('Detail_67_' in i):\n",
    "        df=s[i]\n",
    "        d = pd.concat([d, df])\n",
    "    elif('DetailVol_67_' in i):\n",
    "        dfVol=s[i]\n",
    "        dV=pd.concat([dV,dfVol])\n",
    "    elif('DetailTemp_67_' in i):\n",
    "        dfTemp=s[i]\n",
    "        dT=pd.concat([dT,dfTemp])\n",
    "for i in sheets_temp.keys():\n",
    "    if('DetailTemp_67_' in i):\n",
    "        dfTemp=st[i]\n",
    "        dT=pd.concat([dT,dfTemp])\n",
    "d.to_csv(\"detail.csv\")\n",
    "dV.to_csv(\"detailVol.csv\")\n",
    "dT.to_csv(\"detailTemp.csv\")"
   ]
  },
  {
   "cell_type": "code",
   "execution_count": null,
   "metadata": {},
   "outputs": [],
   "source": []
  }
 ],
 "metadata": {
  "kernelspec": {
   "display_name": "Python 3",
   "language": "python",
   "name": "python3"
  },
  "language_info": {
   "codemirror_mode": {
    "name": "ipython",
    "version": 3
   },
   "file_extension": ".py",
   "mimetype": "text/x-python",
   "name": "python",
   "nbconvert_exporter": "python",
   "pygments_lexer": "ipython3",
   "version": "3.7.4"
  }
 },
 "nbformat": 4,
 "nbformat_minor": 2
}
